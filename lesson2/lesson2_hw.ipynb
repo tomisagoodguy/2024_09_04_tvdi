{
 "cells": [
  {
   "cell_type": "code",
   "execution_count": 11,
   "metadata": {},
   "outputs": [
    {
     "name": "stdout",
     "output_type": "stream",
     "text": [
      "{'name': 'John', 'age': '23', 'city': 'New York'}\n",
      "{'name': 'Jane', 'age': '29', 'city': 'Los Angeles'}\n",
      "{'name': 'Doe', 'age': '25', 'city': 'Chicago'}\n",
      "{'name': 'Anna', 'age': '22', 'city': 'Houston'}\n"
     ]
    }
   ],
   "source": [
    "import csv\n",
    "\n",
    "students = []\n",
    "\n",
    "with open('student.csv', encoding='utf-8-sig') as file:\n",
    "    csv_reader = csv.reader(file)\n",
    "    #讀取行標題\n",
    "    headers = next(csv_reader)\n",
    "    #逐行讀取數據\n",
    "    for row in csv_reader:\n",
    "    # print(row)\n",
    "        # student.append(row)\n",
    "        # 使用zip函數將headers和row配對，轉換成字典\n",
    "        student_dict = dict(zip(headers,row))\n",
    "        students.append(student_dict)\n",
    " \n",
    "for student in students:\n",
    "     print(student)       "
   ]
  },
  {
   "cell_type": "code",
   "execution_count": null,
   "metadata": {},
   "outputs": [],
   "source": []
  }
 ],
 "metadata": {
  "kernelspec": {
   "display_name": "tvdi",
   "language": "python",
   "name": "python3"
  },
  "language_info": {
   "codemirror_mode": {
    "name": "ipython",
    "version": 3
   },
   "file_extension": ".py",
   "mimetype": "text/x-python",
   "name": "python",
   "nbconvert_exporter": "python",
   "pygments_lexer": "ipython3",
   "version": "3.11.10"
  }
 },
 "nbformat": 4,
 "nbformat_minor": 2
}
