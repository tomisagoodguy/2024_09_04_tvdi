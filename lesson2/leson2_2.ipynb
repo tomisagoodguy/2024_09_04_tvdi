{
 "cells": [
  {
   "cell_type": "code",
   "execution_count": 1,
   "metadata": {},
   "outputs": [],
   "source": [
    "# import pandas as pd\n",
    "# df = pd.read_csv('aqx_p_488.csv')\n",
    "# # 查看前几行数据\n",
    "# print(df.head())\n",
    "# # 查看数据信息\n",
    "# print(df.info())\n",
    "# # 查看基本统计信息\n",
    "# print(df.describe())\n",
    "# # 选择特定列\n",
    "# print(df['sitename'])\n",
    "# # 按条件筛选数据\n",
    "# print(df[df['aqi'] > 50])\n",
    "# # 分组统计\n",
    "# print(df.groupby('county')['aqi'].mean())"
   ]
  },
  {
   "cell_type": "code",
   "execution_count": 11,
   "metadata": {},
   "outputs": [],
   "source": [
    "# 导入csv模块来处理CSV格式\n",
    "import csv\n",
    "\n",
    "# 用于存储数据的列表\n",
    "data = []\n",
    "\n",
    "# 使用with open打开文件\n",
    "with open('aqx_p_488.csv', encoding='utf-8') as file:\n",
    "    # 创建csv reader对象\n",
    "    csv_reader = csv.reader(file)\n",
    "    # print(type(csv_reader))        # <class '_csv.reader'>\n",
    "    # 读取标题行\n",
    "    headers = next(csv_reader)\n",
    "\n",
    "    # 逐行读取数据\n",
    "    for row in csv_reader:\n",
    "        # print(row)\n",
    "         data.append(row)\n"
   ]
  }
 ],
 "metadata": {
  "kernelspec": {
   "display_name": "tvdi",
   "language": "python",
   "name": "python3"
  },
  "language_info": {
   "codemirror_mode": {
    "name": "ipython",
    "version": 3
   },
   "file_extension": ".py",
   "mimetype": "text/x-python",
   "name": "python",
   "nbconvert_exporter": "python",
   "pygments_lexer": "ipython3",
   "version": "3.11.10"
  }
 },
 "nbformat": 4,
 "nbformat_minor": 2
}
