{
 "cells": [
  {
   "cell_type": "code",
   "execution_count": 1,
   "metadata": {},
   "outputs": [],
   "source": [
    "# import pandas as pd\n",
    "# df = pd.read_csv('aqx_p_488.csv')\n",
    "# # 查看前几行数据\n",
    "# print(df.head())\n",
    "# # 查看数据信息\n",
    "# print(df.info())\n",
    "# # 查看基本统计信息\n",
    "# print(df.describe())\n",
    "# # 选择特定列\n",
    "# print(df['sitename'])\n",
    "# # 按条件筛选数据\n",
    "# print(df[df['aqi'] > 50])\n",
    "# # 分组统计\n",
    "# print(df.groupby('county')['aqi'].mean())"
   ]
  },
  {
   "cell_type": "code",
   "execution_count": 4,
   "metadata": {},
   "outputs": [
    {
     "name": "stdout",
     "output_type": "stream",
     "text": [
      "列标题: ['sitename', 'county', 'aqi', 'pollutant', 'status', 'so2', 'co', 'o3', 'o3_8hr', 'pm10', 'pm2.5', 'no2', 'nox', 'no', 'windspeed', 'winddirec', 'datacreationdate', 'unit', 'co_8hr', 'pm2.5_avg', 'pm10_avg', 'so2_avg', 'longitude', 'latitude', 'siteid']\n",
      "\n",
      "前5行数据:\n",
      "['屏東(枋山)', '屏東縣', '29', '', '良好', '', '0.13', '34.8', '31.5', '23', '4', '1.2', '1.5', '0.3', '0.9', '62', '2024-10-08 15:00', '', '0.1', '2.8', '17', '', '120.651472', '22.260899', '313']\n",
      "['宜蘭（頭城）', '宜蘭縣', '42', '', '良好', '0.3', '0.21', '51.7', '45.8', '13', '2', '3.6', '3.7', '0', '1.4', '28', '2024-10-08 15:00', '', '0.2', '3.2', '16', '0', '121.82463916', '24.85366672', '312']\n",
      "['新北(樹林)', '新北市', '35', '', '良好', '0.6', '0.28', '29.2', '21.6', '14', '4', '21.9', '26.5', '4.6', '0.1', '169', '2024-10-08 15:00', '', '0.3', '2.7', '13', '0', '121.38352778', '24.94902778', '311']\n",
      "['屏東（琉球）', '屏東縣', '47', '', '良好', '0.9', '0.17', '60.1', '39.0', '24', '16', '2.1', '2.6', '0.5', '1.9', '321', '2024-10-08 15:00', '', '0.1', '14.5', '21', '0', '120.37722', '22.35222', '204']\n",
      "['臺南（麻豆）', '臺南市', '44', '', '良好', '1.3', '0.18', '62.2', '34.5', '47', '13', '5.1', '6.1', '1', '3.6', '345', '2024-10-08 15:00', '', '0.2', '13.4', '35', '0', '120.24583056', '23.17904722', '203']\n",
      "\n",
      "AQI平均值: 31.97\n",
      "\n",
      "AQI最高的地点是 富貴角,AQI值为 64.0\n"
     ]
    }
   ],
   "source": [
    "# 导入csv模块来处理CSV格式\n",
    "import csv\n",
    "\n",
    "# 用于存储数据的列表\n",
    "data = []\n",
    "\n",
    "# 使用with open打开文件\n",
    "with open('aqx_p_488.csv', 'r', encoding='utf-8') as file:\n",
    "    # 创建csv reader对象\n",
    "    csv_reader = csv.reader(file)\n",
    "\n",
    "    # 读取标题行\n",
    "    headers = next(csv_reader)\n",
    "\n",
    "    # 逐行读取数据\n",
    "    for row in csv_reader:\n",
    "        data.append(row)\n",
    "\n",
    "# 现在我们有了headers和data,可以进行进一步的处理\n",
    "\n",
    "# 打印标题\n",
    "print(\"列标题:\", headers)\n",
    "\n",
    "# 打印前5行数据\n",
    "print(\"\\n前5行数据:\")\n",
    "for row in data[:5]:\n",
    "    print(row)\n",
    "\n",
    "# 示例:计算AQI的平均值\n",
    "aqi_sum = 0\n",
    "aqi_count = 0\n",
    "for row in data:\n",
    "    if row[2]:  # 确保AQI值不为空\n",
    "        try:\n",
    "            aqi = float(row[2])\n",
    "            aqi_sum += aqi\n",
    "            aqi_count += 1\n",
    "        except ValueError:\n",
    "            # 如果转换失败,跳过这一行\n",
    "            continue\n",
    "\n",
    "if aqi_count > 0:\n",
    "    aqi_average = aqi_sum / aqi_count\n",
    "    print(f\"\\nAQI平均值: {aqi_average:.2f}\")\n",
    "else:\n",
    "    print(\"\\n没有有效的AQI数据\")\n",
    "\n",
    "# 示例:找出AQI最高的地点\n",
    "max_aqi = 0\n",
    "max_aqi_site = \"\"\n",
    "for row in data:\n",
    "    if row[2]:\n",
    "        try:\n",
    "            aqi = float(row[2])\n",
    "            if aqi > max_aqi:\n",
    "                max_aqi = aqi\n",
    "                max_aqi_site = row[0]  # 假设站点名称在第一列\n",
    "        except ValueError:\n",
    "            continue\n",
    "\n",
    "print(f\"\\nAQI最高的地点是 {max_aqi_site},AQI值为 {max_aqi}\")"
   ]
  }
 ],
 "metadata": {
  "kernelspec": {
   "display_name": "tvdi",
   "language": "python",
   "name": "python3"
  },
  "language_info": {
   "codemirror_mode": {
    "name": "ipython",
    "version": 3
   },
   "file_extension": ".py",
   "mimetype": "text/x-python",
   "name": "python",
   "nbconvert_exporter": "python",
   "pygments_lexer": "ipython3",
   "version": "3.11.10"
  }
 },
 "nbformat": 4,
 "nbformat_minor": 2
}
