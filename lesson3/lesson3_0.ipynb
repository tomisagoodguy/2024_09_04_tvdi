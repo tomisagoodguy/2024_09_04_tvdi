{
 "cells": [
  {
   "cell_type": "code",
   "execution_count": 18,
   "metadata": {},
   "outputs": [
    {
     "name": "stdout",
     "output_type": "stream",
     "text": [
      "{'name': 'John', 'age': '23', 'city': 'New York'}\n",
      "{'name': 'Jane', 'age': '29', 'city': 'Los Angeles'}\n",
      "{'name': 'Doe', 'age': '25', 'city': 'Chicago'}\n",
      "{'name': 'Anna', 'age': '22', 'city': 'Houston'}\n",
      "{'name': 'Jane', 'age': '29', 'city': 'Los Angeles'}\n",
      "[{'name': 'Jane', 'age': '29', 'city': 'Los Angeles'}]\n"
     ]
    }
   ],
   "source": [
    "import csv\n",
    "\n",
    "with open ('student.csv',encoding='utf-8-sig',newline='') as file :\n",
    "    reader_dict = list(csv.DictReader(file))\n",
    "    #print(reader_dict)\n",
    "    for item in reader_dict:\n",
    "            print(item)\n",
    "            \n",
    "    new_list = [] \n",
    "    for item in reader_dict:\n",
    "        if int(item['age'])>25:\n",
    "            print(item)\n",
    "            new_list.append(item)\n",
    "            \n",
    "            print(new_list)\n",
    "        \n",
    "    "
   ]
  },
  {
   "cell_type": "code",
   "execution_count": 19,
   "metadata": {},
   "outputs": [
    {
     "name": "stdout",
     "output_type": "stream",
     "text": [
      "[{'name': 'Jane', 'age': '29', 'city': 'Los Angeles'}]\n"
     ]
    }
   ],
   "source": [
    "print(new_list)\n",
    "\n",
    "with open('filtered_data.csv',mode='w',encoding='utf-8-sig',newline='')as f:\n",
    "    filednames = ['name','age','city']\n",
    "    dict_writer = csv.DictWriter(f,fieldnames=filednames)\n",
    "    dict_writer.writeheader()\n",
    "    for item in new_list:\n",
    "        dict_writer.writerow(item)\n",
    "    \n",
    "    \n",
    "    \n",
    "    "
   ]
  }
 ],
 "metadata": {
  "kernelspec": {
   "display_name": "tvdi",
   "language": "python",
   "name": "python3"
  },
  "language_info": {
   "codemirror_mode": {
    "name": "ipython",
    "version": 3
   },
   "file_extension": ".py",
   "mimetype": "text/x-python",
   "name": "python",
   "nbconvert_exporter": "python",
   "pygments_lexer": "ipython3",
   "version": "3.11.10"
  }
 },
 "nbformat": 4,
 "nbformat_minor": 2
}
