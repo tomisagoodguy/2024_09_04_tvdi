{
 "cells": [
  {
   "cell_type": "code",
   "execution_count": 21,
   "metadata": {},
   "outputs": [],
   "source": [
    "class Person(object):\n",
    "    #自訂的init,建立內建的attribute\n",
    "    def __init__(self, name: str, age:int): #type hint\n",
    "        self.__name = name  # private attribute\n",
    "        self.__age = age  # private attribute\n",
    "        \n",
    "    #自訂實體被print()時的輸出   \n",
    "    def __repr__(self)->str:\n",
    "        return f\"我的名字是:{self.name}\\n我的age是{self.age}\"\n",
    "    \n",
    "    @property # 註冊一個function，只會傳出資料，read_only\n",
    "    def name(self)->str:  #getter\n",
    "        return self.__name\n",
    "    @name.setter #可以做修改\n",
    "    def name(self,n):\n",
    "        print(f'不可以改名為{n}')\n",
    "        \n",
    "    @property\n",
    "    def age(self)->int:\n",
    "        return self.__age\n",
    "    @age.setter\n",
    "    def age(self,value):\n",
    "        if value >100 or value<0:\n",
    "            print(\"不合法的值\")\n",
    "        else:\n",
    "            self.__age = value\n",
    "    "
   ]
  },
  {
   "cell_type": "code",
   "execution_count": 22,
   "metadata": {},
   "outputs": [
    {
     "name": "stdout",
     "output_type": "stream",
     "text": [
      "不合法的值\n",
      "18\n",
      "robert\n",
      "==================\n",
      "tom\n",
      "24\n"
     ]
    }
   ],
   "source": [
    "#初始化, INITIAL\n",
    "p1 = Person(name='robert', age=18)\n",
    "# p1.name = 'abc'\n",
    "p1.age =200\n",
    "print(p1.age)\n",
    "print(p1.name)\n",
    "\n",
    "print('==================')\n",
    "\n",
    "p2 = Person(name='tom', age=24)\n",
    "print(p2.name)\n",
    "print(p2.age)\n"
   ]
  },
  {
   "cell_type": "code",
   "execution_count": 23,
   "metadata": {},
   "outputs": [],
   "source": [
    "# help(Person)"
   ]
  },
  {
   "cell_type": "code",
   "execution_count": 33,
   "metadata": {},
   "outputs": [
    {
     "data": {
      "text/plain": [
       "'\\nAttributes 用於存儲數據。\\nProperties 提供了對屬性訪問的控制和計算能力。\\nInstance Methods 定義了對象可以執行的操作。\\n'"
      ]
     },
     "execution_count": 33,
     "metadata": {},
     "output_type": "execute_result"
    }
   ],
   "source": [
    "class Student(Person): #繼承person\n",
    "    @classmethod\n",
    "    def echo(cls):\n",
    "        print(\"Hello!i am studentclass\")  \n",
    "    \n",
    "    def __init__(self, name:str, age:int,chinese:int=0,english:int=0,math:int=0):\n",
    "        super().__init__(name=name, age=age) #執行副類別的初始化\n",
    "        self.chinese = chinese\n",
    "        self.english =english\n",
    "        self.math = math\n",
    "        \n",
    "    @property\n",
    "    def total(self)->int:\n",
    "        return self.chinese +self.english+self.math\n",
    "    \n",
    "    # instance method實體方法\n",
    "    def average(self)->float:\n",
    "        return round(self.total/3,ndigits=2)\n",
    "        \n",
    "'''\n",
    "Attributes 用於存儲數據。\n",
    "Properties 提供了對屬性訪問的控制和計算能力。\n",
    "Instance Methods 定義了對象可以執行的操作。\n",
    "'''\n",
    "        \n",
    "        "
   ]
  },
  {
   "cell_type": "code",
   "execution_count": 29,
   "metadata": {},
   "outputs": [
    {
     "name": "stdout",
     "output_type": "stream",
     "text": [
      "我的名字是:陳定康\n",
      "我的age是24\n",
      "60\n",
      "92\n",
      "85\n",
      "237\n",
      "79.0\n"
     ]
    }
   ],
   "source": [
    "stu1 = Student(name=\"陳定康\",age=24,chinese=60,math=92,english=85)\n",
    "print(stu1)\n",
    "print(stu1.chinese) #attribute\n",
    "print(stu1.math) #attribute\n",
    "print(stu1.english)  #attribute\n",
    "print(stu1.total)  #properity\n",
    "print(stu1.average()) #instance method"
   ]
  },
  {
   "cell_type": "code",
   "execution_count": 34,
   "metadata": {},
   "outputs": [
    {
     "name": "stdout",
     "output_type": "stream",
     "text": [
      "Hello!i am studentclass\n"
     ]
    }
   ],
   "source": [
    "Student.echo()"
   ]
  }
 ],
 "metadata": {
  "kernelspec": {
   "display_name": "tvdi",
   "language": "python",
   "name": "python3"
  },
  "language_info": {
   "codemirror_mode": {
    "name": "ipython",
    "version": 3
   },
   "file_extension": ".py",
   "mimetype": "text/x-python",
   "name": "python",
   "nbconvert_exporter": "python",
   "pygments_lexer": "ipython3",
   "version": "3.11.10"
  }
 },
 "nbformat": 4,
 "nbformat_minor": 2
}
