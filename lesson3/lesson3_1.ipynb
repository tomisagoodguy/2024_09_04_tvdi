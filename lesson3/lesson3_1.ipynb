{
 "cells": [
  {
   "cell_type": "code",
   "execution_count": 40,
   "metadata": {},
   "outputs": [],
   "source": [
    "class Person(object):\n",
    "    #自訂的init,建立內建的attribute\n",
    "    def __init__(self, name: str, age:int): #type hint\n",
    "        self.__name = name  # private attribute\n",
    "        self.__age = age  # private attribute\n",
    "        \n",
    "    #自訂實體被print()時的輸出   \n",
    "    def __repr__(self)->str:\n",
    "        return f\"我的名字是:{self.name}\\n我的age是{self.age}\"\n",
    "    \n",
    "    @property # 註冊一個function，只會傳出資料，read_only\n",
    "    def name(self)->str:  #getter\n",
    "        return self.__name\n",
    "    @name.setter\n",
    "    def name(self,n):\n",
    "        print(f'不可以改名為{n}')\n",
    "        \n",
    "    @property\n",
    "    def age(self)->int:\n",
    "        return self.__age\n",
    "    @age.setter\n",
    "    def age(self,value):\n",
    "        if value >100 or value<0:\n",
    "            print(\"不合法的值\")\n",
    "        else:\n",
    "            self.__age = value\n",
    "    "
   ]
  },
  {
   "cell_type": "code",
   "execution_count": 51,
   "metadata": {},
   "outputs": [
    {
     "name": "stdout",
     "output_type": "stream",
     "text": [
      "不合法的值\n",
      "18\n",
      "robert\n",
      "==================\n",
      "tom\n",
      "24\n"
     ]
    }
   ],
   "source": [
    "#初始化, INITIAL\n",
    "p1 = Person(name='robert', age=18)\n",
    "# p1.name = 'abc'\n",
    "p1.age =200\n",
    "print(p1.age)\n",
    "print(p1.name)\n",
    "\n",
    "print('==================')\n",
    "\n",
    "p2 = Person(name='tom', age=24)\n",
    "print(p2.name)\n",
    "print(p2.age)\n"
   ]
  },
  {
   "cell_type": "code",
   "execution_count": 20,
   "metadata": {},
   "outputs": [],
   "source": [
    "# help(Person)"
   ]
  }
 ],
 "metadata": {
  "kernelspec": {
   "display_name": "tvdi",
   "language": "python",
   "name": "python3"
  },
  "language_info": {
   "codemirror_mode": {
    "name": "ipython",
    "version": 3
   },
   "file_extension": ".py",
   "mimetype": "text/x-python",
   "name": "python",
   "nbconvert_exporter": "python",
   "pygments_lexer": "ipython3",
   "version": "3.11.10"
  }
 },
 "nbformat": 4,
 "nbformat_minor": 2
}
