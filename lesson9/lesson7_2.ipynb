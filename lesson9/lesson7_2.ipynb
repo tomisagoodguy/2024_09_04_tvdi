{
 "cells": [
  {
   "cell_type": "code",
   "execution_count": 1,
   "metadata": {},
   "outputs": [
    {
     "data": {
      "text/plain": [
       "['屏東縣',\n",
       " '宜蘭縣',\n",
       " '新北市',\n",
       " '臺南市',\n",
       " '高雄市',\n",
       " '彰化縣',\n",
       " '雲林縣',\n",
       " '臺東縣',\n",
       " '澎湖縣',\n",
       " '金門縣',\n",
       " '連江縣',\n",
       " '南投縣',\n",
       " '桃園市',\n",
       " '臺北市',\n",
       " '花蓮縣',\n",
       " '嘉義市',\n",
       " '嘉義縣',\n",
       " '臺中市',\n",
       " '苗栗縣',\n",
       " '新竹市',\n",
       " '新竹縣',\n",
       " '基隆市']"
      ]
     },
     "execution_count": 1,
     "metadata": {},
     "output_type": "execute_result"
    }
   ],
   "source": [
    "import sqlite3\n",
    "def get_county()->list[str]:\n",
    "    '''\n",
    "    docString\n",
    "    parameter:\n",
    "    return:\n",
    "        傳出所有的城市名稱\n",
    "    '''\n",
    "    conn = sqlite3.connect(\"AQI.db\")\n",
    "    with conn:\n",
    "        # Create a cursor object to execute SQL commands\n",
    "        cursor = conn.cursor()\n",
    "        # SQL query to select unique sitenames from records table\n",
    "        sql = '''\n",
    "        SELECT DISTINCT county\n",
    "        FROM records\n",
    "        '''\n",
    "        # Execute the SQL query\n",
    "        cursor.execute(sql)\n",
    "        # Get all results and extract first item from each row into a list\n",
    "        counties = [items[0] for items in cursor.fetchall()]\n",
    "    \n",
    "    # Return the list of unique sitenames\n",
    "    return counties\n",
    "get_county()\n"
   ]
  },
  {
   "cell_type": "code",
   "execution_count": 5,
   "metadata": {},
   "outputs": [
    {
     "name": "stdout",
     "output_type": "stream",
     "text": [
      "['三重', '土城', '富貴角', '新北(樹林)', '新店', '新莊', '板橋', '林口', '永和', '汐止', '淡水', '菜寮', '萬里']\n"
     ]
    },
    {
     "data": {
      "text/plain": [
       "['三重',\n",
       " '土城',\n",
       " '富貴角',\n",
       " '新北(樹林)',\n",
       " '新店',\n",
       " '新莊',\n",
       " '板橋',\n",
       " '林口',\n",
       " '永和',\n",
       " '汐止',\n",
       " '淡水',\n",
       " '菜寮',\n",
       " '萬里']"
      ]
     },
     "execution_count": 5,
     "metadata": {},
     "output_type": "execute_result"
    }
   ],
   "source": [
    "def get_sitename(county:str)->list[str]:\n",
    "    '''\n",
    "    docString\n",
    "    parameter:\n",
    "        county:城市名稱\n",
    "\n",
    "    return:\n",
    "        傳出所有的站點名稱\n",
    "    '''\n",
    "    conn = sqlite3.connect(\"AQI.db\")\n",
    "    with conn:\n",
    "        # Create a cursor object to execute SQL commands\n",
    "        cursor = conn.cursor()\n",
    "        # SQL query to select unique sitenames from records table\n",
    "        sql = '''\n",
    "        SELECT DISTINCT sitename\n",
    "        FROM records\n",
    "        WHERE county = ?       \n",
    "         '''\n",
    "        # Execute the SQL query\n",
    "        cursor.execute(sql,(county,))\n",
    "        # Get all results and extract first item from each row into a list\n",
    "        \n",
    "        \n",
    "        sitenames = [items[0] for items in cursor.fetchall()]\n",
    "        print(sitenames)\n",
    "    \n",
    "    # Return the list of unique sitenames\n",
    "    return sitenames\n",
    "\n",
    "get_sitename(\"新北市\")"
   ]
  }
 ],
 "metadata": {
  "kernelspec": {
   "display_name": "tvdi",
   "language": "python",
   "name": "python3"
  },
  "language_info": {
   "codemirror_mode": {
    "name": "ipython",
    "version": 3
   },
   "file_extension": ".py",
   "mimetype": "text/x-python",
   "name": "python",
   "nbconvert_exporter": "python",
   "pygments_lexer": "ipython3",
   "version": "3.11.10"
  }
 },
 "nbformat": 4,
 "nbformat_minor": 2
}
