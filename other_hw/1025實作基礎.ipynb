{
 "cells": [
  {
   "cell_type": "code",
   "execution_count": 1,
   "metadata": {},
   "outputs": [
    {
     "name": "stdout",
     "output_type": "stream",
     "text": [
      "不及格\n",
      "不及格\n",
      "不及格\n",
      "優秀\n",
      "不及格\n",
      "總共有1位學生及格，4位學生不及格\n"
     ]
    }
   ],
   "source": [
    "pass_count=0\n",
    "fail_count=0\n",
    "\n",
    "num_students=int(input(\"請輸入學生數量:\"))\n",
    "\n",
    "for i in range(num_students):\n",
    "    #輸入每位學生的成績\n",
    "    score = int(input(f\"請輸入第{i+1}個學生的成績:\"))\n",
    "    \n",
    "    #判斷是否及格\n",
    "    if score >=60:\n",
    "        if score >=90:\n",
    "            print('優秀')\n",
    "        else:\n",
    "            print('及格')\n",
    "        pass_count+=1\n",
    "    else:\n",
    "        print(\"不及格\")\n",
    "        fail_count += 1 \n",
    "        \n",
    "#統計結果\n",
    "print(f\"總共有{pass_count}位學生及格，{fail_count}位學生不及格\")"
   ]
  },
  {
   "cell_type": "code",
   "execution_count": 2,
   "metadata": {},
   "outputs": [
    {
     "name": "stdout",
     "output_type": "stream",
     "text": [
      "生成的數字:66\n",
      "偶數\n",
      "生成的數字:11\n",
      "奇數\n",
      "生成的數字:57\n",
      "奇數\n",
      "生成的數字:10\n",
      "偶數\n",
      "生成的數字:17\n",
      "奇數\n",
      "生成的數字:38\n",
      "偶數\n",
      "生成的數字:14\n",
      "偶數\n",
      "生成的數字:60\n",
      "偶數\n",
      "生成的數字:35\n",
      "奇數\n",
      "生成的數字:78\n",
      "偶數\n",
      "生成的數字:87\n",
      "奇數\n",
      "生成的數字:87\n",
      "奇數\n",
      "生成的數字:38\n",
      "偶數\n",
      "生成的數字:65\n",
      "奇數\n",
      "生成的數字:44\n",
      "偶數\n",
      "生成的數字:37\n",
      "奇數\n",
      "生成的數字:15\n",
      "奇數\n",
      "生成的數字:13\n",
      "奇數\n",
      "生成的數字:92\n",
      "偶數\n",
      "生成的數字:74\n",
      "偶數\n",
      "總共有10個偶數，10個奇數\n"
     ]
    }
   ],
   "source": [
    "import random\n",
    "\n",
    "even_count=0\n",
    "odd_count=0\n",
    "\n",
    "#生成20個隨機數\n",
    "for _ in range(20):\n",
    "    num = random.randint(1,100)\n",
    "    print(f\"生成的數字:{num}\")\n",
    "    \n",
    "    if num %2 ==0:\n",
    "        print(\"偶數\")\n",
    "        even_count+=1\n",
    "        \n",
    "    else:\n",
    "        print('奇數')\n",
    "        odd_count+=1\n",
    "print(f\"總共有{even_count}個偶數，{odd_count}個奇數\")\n",
    "\n",
    "\n",
    "        "
   ]
  },
  {
   "cell_type": "code",
   "execution_count": 3,
   "metadata": {},
   "outputs": [
    {
     "name": "stdout",
     "output_type": "stream",
     "text": [
      "反轉後的字串:25\n"
     ]
    }
   ],
   "source": [
    "def reverse_string():\n",
    "    user_input = input(\"請輸入一段字串:\")\n",
    "    reverse_string = user_input[::-1]\n",
    "    print(f\"反轉後的字串:{reverse_string}\")\n",
    "    \n",
    "reverse_string()\n",
    "    "
   ]
  },
  {
   "cell_type": "code",
   "execution_count": 4,
   "metadata": {},
   "outputs": [
    {
     "name": "stdout",
     "output_type": "stream",
     "text": [
      "總和:1265,平均數:27.5\n"
     ]
    }
   ],
   "source": [
    "def calculate_sum_and_average():\n",
    "    \n",
    "    start = int(input(\"請輸入範圍的起始數字:\"))\n",
    "    end = int(input(\"請輸入範圍的結束數字:\"))\n",
    "    total_sum = 0\n",
    "    count = 0\n",
    "    \n",
    "    for num in range(start,end+1):\n",
    "        total_sum += num\n",
    "        count+=1\n",
    "    \n",
    "    average = total_sum/count\n",
    "    print(f\"總和:{total_sum},平均數:{average}\")\n",
    "    \n",
    "calculate_sum_and_average()\n",
    "    \n",
    "    \n",
    "    "
   ]
  },
  {
   "cell_type": "code",
   "execution_count": 5,
   "metadata": {},
   "outputs": [
    {
     "name": "stdout",
     "output_type": "stream",
     "text": [
      "已排序的串列:[56, 62, 62, 62, 95]\n",
      "總和:337,平均數:67.4\n"
     ]
    }
   ],
   "source": [
    "def list_operations():\n",
    "    numbers = []\n",
    "    \n",
    "    for i in range(5):\n",
    "        num = int(input(f\"請輸入第{i+1}個數字:\"))\n",
    "        numbers.append(num)\n",
    "    \n",
    "    total_sum = sum(numbers)\n",
    "    average = total_sum/len(numbers)\n",
    "    sorted_numbeers = sorted(numbers)\n",
    "    \n",
    "    print(f\"已排序的串列:{sorted_numbeers}\")\n",
    "    print(f\"總和:{total_sum},平均數:{average}\")\n",
    "    \n",
    "list_operations()"
   ]
  },
  {
   "cell_type": "code",
   "execution_count": null,
   "metadata": {},
   "outputs": [],
   "source": []
  }
 ],
 "metadata": {
  "kernelspec": {
   "display_name": "Python 3",
   "language": "python",
   "name": "python3"
  },
  "language_info": {
   "codemirror_mode": {
    "name": "ipython",
    "version": 3
   },
   "file_extension": ".py",
   "mimetype": "text/x-python",
   "name": "python",
   "nbconvert_exporter": "python",
   "pygments_lexer": "ipython3",
   "version": "3.12.4"
  }
 },
 "nbformat": 4,
 "nbformat_minor": 2
}
