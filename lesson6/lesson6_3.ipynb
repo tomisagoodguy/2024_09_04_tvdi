{
 "cells": [
  {
   "cell_type": "code",
   "execution_count": 1,
   "metadata": {},
   "outputs": [],
   "source": [
    "import sqlite3\n",
    "sql = '''\n",
    "CREATE TABLE IF NOT EXISTS records (\n",
    "\tid INTEGER NOT NULL PRIMARY KEY AUTOINCREMENT,\n",
    "\tsitename TEXT NOT NULL,\n",
    "\tcounty TEXT,\n",
    "\taqi INTEGER,\n",
    "\tstatus TEXT,\n",
    "\tpm25 NUMERIC,\n",
    "\tdate TEXT,\n",
    "\tlat NUMERIC,\n",
    "\tlon NUMERIC\n",
    ");\n",
    "'''\n",
    "\n",
    "\n",
    "# Connect to SQLite database (or create it if it doesn't exist)\n",
    "conn = sqlite3.connect(\"AQI.db\")\n",
    "\n",
    "# Create a cursor object\n",
    "cursor = conn.cursor()\n",
    "\n",
    "# Create a table\n",
    "cursor.execute(sql)\n",
    "\n",
    "# Commit changes and close the connection\n",
    "conn.commit()\n",
    "cursor.close()\n",
    "conn.close()"
   ]
  }
 ],
 "metadata": {
  "kernelspec": {
   "display_name": "tvdi",
   "language": "python",
   "name": "python3"
  },
  "language_info": {
   "codemirror_mode": {
    "name": "ipython",
    "version": 3
   },
   "file_extension": ".py",
   "mimetype": "text/x-python",
   "name": "python",
   "nbconvert_exporter": "python",
   "pygments_lexer": "ipython3",
   "version": "3.11.10"
  }
 },
 "nbformat": 4,
 "nbformat_minor": 2
}
