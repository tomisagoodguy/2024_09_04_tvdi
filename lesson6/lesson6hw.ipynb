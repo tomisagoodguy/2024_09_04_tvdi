{
 "cells": [
  {
   "cell_type": "code",
   "execution_count": null,
   "metadata": {},
   "outputs": [],
   "source": [
    "import requests\n",
    "import sqlite3\n",
    "# get the file by requests function\n",
    "url=\"https://data.moenv.gov.tw/api/v2/aqx_p_488?api_key=e8dd42e6-9b8b-43f8-991e-b3dee723a52d&limit=1000&sort=datacreationdate%20desc&format=JSON\"\n",
    "try:\n",
    "    response=requests.get(url)\n",
    "    response.raise_for_status()\n",
    "    data=response.json()\n",
    "except Exception as e:\n",
    "    print(e)\n",
    "else:\n",
    "    # connect to sqllite3\n",
    "    conn=sqlite3.connect(\"AQI.db\")\n",
    "    # execute DB by cursor\n",
    "    cursor=conn.cursor()\n",
    "    # insert SQL, values(?)make it possible to fill in the value\n",
    "    insertSQL='''\n",
    "    INSERT INTO records(sitename,county,aqi,status,pm25,date,lat,lon)\n",
    "    values(?,?,?,?,?,?,?,?)\n",
    "    '''\n",
    "    # get the values from each item in data['records']\n",
    "    for item in data['records']:\n",
    "        values=(\n",
    "            item['sitename'],\n",
    "            item['county'],\n",
    "            item['aqi'],\n",
    "            item['status'],\n",
    "            item['pm2.5'],\n",
    "            item['datacreationdate'],\n",
    "            item['latitude'],\n",
    "            item['longitude']\n",
    "        )\n",
    "        # Create a table\n",
    "        cursor.execute(insertSQL,values)\n",
    "    # commit the changes and close\n",
    "    conn.commit()\n",
    "    cursor.close()\n",
    "    conn.close()"
   ]
  }
 ],
 "metadata": {
  "kernelspec": {
   "display_name": "Python 3",
   "language": "python",
   "name": "python3"
  },
  "language_info": {
   "name": "python",
   "version": "3.12.4"
  }
 },
 "nbformat": 4,
 "nbformat_minor": 2
}
