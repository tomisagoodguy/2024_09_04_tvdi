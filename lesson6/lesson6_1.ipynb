{
 "cells": [
  {
   "cell_type": "code",
   "execution_count": 1,
   "metadata": {},
   "outputs": [
    {
     "data": {
      "text/plain": [
       "requests.models.Response"
      ]
     },
     "execution_count": 1,
     "metadata": {},
     "output_type": "execute_result"
    }
   ],
   "source": [
    "import requests\n",
    "url = 'https://data.moenv.gov.tw/api/v2/aqx_p_488?api_key=e8dd42e6-9b8b-43f8-991e-b3dee723a52d&limit=1000&sort=datacreationdate%20desc&format=JSON'\n",
    "response = requests.get(url)\n",
    "type(response)"
   ]
  },
  {
   "cell_type": "code",
   "execution_count": 3,
   "metadata": {},
   "outputs": [
    {
     "data": {
      "text/plain": [
       "dict"
      ]
     },
     "execution_count": 3,
     "metadata": {},
     "output_type": "execute_result"
    }
   ],
   "source": [
    "data = response.json()\n",
    "type(data)"
   ]
  },
  {
   "cell_type": "code",
   "execution_count": 5,
   "metadata": {},
   "outputs": [
    {
     "data": {
      "text/plain": [
       "['桃園',\n",
       " '林口',\n",
       " '松山',\n",
       " '新店',\n",
       " '埔里',\n",
       " '馬祖',\n",
       " '陽明',\n",
       " '觀音',\n",
       " '線西',\n",
       " '大城',\n",
       " '安南',\n",
       " '古亭',\n",
       " '屏東（琉球）',\n",
       " '大寮',\n",
       " '潮州',\n",
       " '頭份',\n",
       " '高雄（湖內）',\n",
       " '花蓮',\n",
       " '嘉義',\n",
       " '苗栗',\n",
       " '恆春',\n",
       " '萬里',\n",
       " '三義',\n",
       " '新莊',\n",
       " '崙背',\n",
       " '麥寮',\n",
       " '土城',\n",
       " '關山',\n",
       " '龍潭',\n",
       " '宜蘭（頭城）',\n",
       " '基隆',\n",
       " '楠梓',\n",
       " '仁武',\n",
       " '竹山',\n",
       " '善化',\n",
       " '新營',\n",
       " '前鎮',\n",
       " '臺南（麻豆）',\n",
       " '馬公',\n",
       " '豐原',\n",
       " '朴子',\n",
       " '平鎮',\n",
       " '鳳山',\n",
       " '美濃',\n",
       " '橋頭',\n",
       " '大里',\n",
       " '新北(樹林)',\n",
       " '復興',\n",
       " '板橋',\n",
       " '萬華',\n",
       " '彰化（員林）',\n",
       " '冬山',\n",
       " '臺南',\n",
       " '金門',\n",
       " '臺西',\n",
       " '沙鹿',\n",
       " '南投',\n",
       " '竹東',\n",
       " '前金',\n",
       " '富貴角',\n",
       " '三重',\n",
       " '忠明',\n",
       " '新竹',\n",
       " '林園',\n",
       " '小港',\n",
       " '屏東',\n",
       " '左營',\n",
       " '湖口',\n",
       " '西屯',\n",
       " '汐止',\n",
       " '大同',\n",
       " '菜寮',\n",
       " '淡水',\n",
       " '斗六',\n",
       " '永和',\n",
       " '大園',\n",
       " '屏東(枋山)',\n",
       " '中山',\n",
       " '彰化',\n",
       " '二林',\n",
       " '新港',\n",
       " '宜蘭',\n",
       " '臺東',\n",
       " '士林',\n",
       " '中壢']"
      ]
     },
     "execution_count": 5,
     "metadata": {},
     "output_type": "execute_result"
    }
   ],
   "source": [
    "sitenames = set()\n",
    "for items in data['records']:\n",
    "    sitenames.add(items['sitename'])\n",
    "    \n",
    "sitenames = list(sitenames)\n",
    "sitenames"
   ]
  },
  {
   "cell_type": "code",
   "execution_count": null,
   "metadata": {},
   "outputs": [],
   "source": []
  }
 ],
 "metadata": {
  "kernelspec": {
   "display_name": "tvdi",
   "language": "python",
   "name": "python3"
  },
  "language_info": {
   "codemirror_mode": {
    "name": "ipython",
    "version": 3
   },
   "file_extension": ".py",
   "mimetype": "text/x-python",
   "name": "python",
   "nbconvert_exporter": "python",
   "pygments_lexer": "ipython3",
   "version": "3.11.10"
  }
 },
 "nbformat": 4,
 "nbformat_minor": 2
}
